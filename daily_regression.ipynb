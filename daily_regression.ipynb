{
 "cells": [
  {
   "cell_type": "code",
   "execution_count": null,
   "metadata": {
    "collapsed": true
   },
   "outputs": [],
   "source": [
    "import numpy as np\n",
    "import pandas as pd\n",
    "import scipy as sp\n",
    "import matplotlib.pyplot as plt\n",
    "%matplotlib inline"
   ]
  },
  {
   "cell_type": "code",
   "execution_count": null,
   "metadata": {},
   "outputs": [],
   "source": [
    "# Loading the data: energy consumption and outside temperature for april/may\n",
    "df = pd.read_csv(\"year_data.csv\",sep=';')\n",
    "\n",
    "df2 = pd.read_csv(\"year_weather.csv\",sep=';')\n",
    "df3 = pd.read_csv(\"downfall2016.csv\",sep=';')\n",
    "df4 = pd.concat([df2,df3['downfall']],axis=1)\n",
    "# df2 = df2[:]*-1\n",
    "df.plot()\n",
    "df2.plot()\n",
    "df4['downfall'].plot()\n",
    "# Plot of the outside temperature"
   ]
  },
  {
   "cell_type": "code",
   "execution_count": null,
   "metadata": {
    "scrolled": false
   },
   "outputs": [],
   "source": [
    "df4"
   ]
  },
  {
   "cell_type": "code",
   "execution_count": null,
   "metadata": {},
   "outputs": [],
   "source": [
    "# Apply linear regression to find the residual of the bla bla\n",
    "import statsmodels.formula.api as sm\n",
    "dfr = pd.DataFrame({\"A\": df['FV Energi'], \"B\":df2['temperature'],  \"C\":df4['downfall']})\n",
    "result = sm.ols(formula=\"A ~ B + C\", data=dfr).fit()\n",
    "# Result of the regression: parameters of the linear model and a summary\n",
    "print(result.params)\n",
    "print(result.summary())\n",
    "result.resid.plot()\n"
   ]
  },
  {
   "cell_type": "code",
   "execution_count": null,
   "metadata": {},
   "outputs": [],
   "source": [
    "result.resid.plot()"
   ]
  },
  {
   "cell_type": "code",
   "execution_count": null,
   "metadata": {},
   "outputs": [],
   "source": [
    "# Wind data\n",
    "df5 = pd.read_csv(\"year_wind_data.csv\",sep=';')\n",
    "\n",
    "# Quick and dirty hack\n",
    "large_wind = np.array(df5['speed'])\n",
    "av_wind = np.zeros(int(len(large_wind)/24))\n",
    "for i in range(len(av_wind)):\n",
    "    av_wind[i] = np.average(large_wind[i*24:(i+1)*24])\n",
    "df4 = pd.concat([df4,pd.Series(av_wind,name=\"wind\")],axis=1)\n"
   ]
  },
  {
   "cell_type": "code",
   "execution_count": null,
   "metadata": {},
   "outputs": [],
   "source": [
    "dfr = pd.DataFrame({\"A\": df['FV Energi'], \"B\":df4['temperature'],  \"C\":df4['wind']})\n",
    "result = sm.ols(formula=\"A ~ B + C\", data=dfr).fit()"
   ]
  },
  {
   "cell_type": "code",
   "execution_count": null,
   "metadata": {},
   "outputs": [],
   "source": [
    "result.summary()"
   ]
  },
  {
   "cell_type": "code",
   "execution_count": null,
   "metadata": {
    "collapsed": true
   },
   "outputs": [],
   "source": []
  }
 ],
 "metadata": {
  "anaconda-cloud": {},
  "kernelspec": {
   "display_name": "Python 3",
   "language": "python",
   "name": "python3"
  },
  "language_info": {
   "codemirror_mode": {
    "name": "ipython",
    "version": 3
   },
   "file_extension": ".py",
   "mimetype": "text/x-python",
   "name": "python",
   "nbconvert_exporter": "python",
   "pygments_lexer": "ipython3",
   "version": "3.5.2"
  }
 },
 "nbformat": 4,
 "nbformat_minor": 1
}
