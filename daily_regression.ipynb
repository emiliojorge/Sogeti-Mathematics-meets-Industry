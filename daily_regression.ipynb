{
 "cells": [
  {
   "cell_type": "code",
   "execution_count": null,
   "metadata": {
    "collapsed": true
   },
   "outputs": [],
   "source": [
    "import numpy as np\n",
    "import pandas as pd\n",
    "import scipy as sp\n",
    "import matplotlib.pyplot as plt\n",
    "%matplotlib inline"
   ]
  },
  {
   "cell_type": "code",
   "execution_count": null,
   "metadata": {},
   "outputs": [],
   "source": [
    "# Loading the data: energy consumption and outside temperature for april/may\n",
    "df = pd.read_excel(\"daily.xlsx\")\n",
    "\n",
    "df2 = pd.read_csv(\"april_may.csv\",sep=';')\n",
    "df2 = df2[:]*-1\n",
    "df2.plot()\n",
    "df2['stuff']\n",
    "# Plot of the outside temperature"
   ]
  },
  {
   "cell_type": "code",
   "execution_count": null,
   "metadata": {},
   "outputs": [],
   "source": [
    "# Plot of the energy consumption\n",
    "df['FV Energi'].plot()"
   ]
  },
  {
   "cell_type": "code",
   "execution_count": null,
   "metadata": {},
   "outputs": [],
   "source": [
    "# Apply linear regression to find the residual of the bla bla\n",
    "import statsmodels.formula.api as sm\n",
    "dfr = pd.DataFrame({\"A\": df['FV Energi'], \"B\": df2['stuff']})\n",
    "result = sm.ols(formula=\"A ~ B\", data=dfr).fit()\n",
    "# Result of the regression: parameters of the linear model and a summary\n",
    "print(result.params)\n",
    "print(result.summary())"
   ]
  },
  {
   "cell_type": "code",
   "execution_count": null,
   "metadata": {},
   "outputs": [],
   "source": [
    "result.resid.plot()"
   ]
  },
  {
   "cell_type": "code",
   "execution_count": null,
   "metadata": {
    "collapsed": true
   },
   "outputs": [],
   "source": []
  }
 ],
 "metadata": {
  "anaconda-cloud": {},
  "kernelspec": {
   "display_name": "Python 3",
   "language": "python",
   "name": "python3"
  },
  "language_info": {
   "codemirror_mode": {
    "name": "ipython",
    "version": 3
   },
   "file_extension": ".py",
   "mimetype": "text/x-python",
   "name": "python",
   "nbconvert_exporter": "python",
   "pygments_lexer": "ipython3",
   "version": "3.5.2"
  }
 },
 "nbformat": 4,
 "nbformat_minor": 1
}
